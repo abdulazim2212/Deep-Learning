{
 "cells": [
  {
   "cell_type": "code",
   "execution_count": 17,
   "id": "e8160f01",
   "metadata": {},
   "outputs": [],
   "source": [
    "import numpy as np\n",
    "import pandas as pd"
   ]
  },
  {
   "cell_type": "code",
   "execution_count": 42,
   "id": "b35af5b5",
   "metadata": {},
   "outputs": [],
   "source": [
    "revenue_data = {\n",
    "    \"2018\" :  [180,200,220],\n",
    "    \"2019\" : [24,36,40],\n",
    "    \"2020\" : [12,18,20]   \n",
    "}\n",
    "revenue = pd.DataFrame(revenue_data,\n",
    "                      index = ['Iphone','Ipad','Mac'])"
   ]
  },
  {
   "cell_type": "code",
   "execution_count": 43,
   "id": "0d5b54a1",
   "metadata": {},
   "outputs": [],
   "source": [
    "expenses_data = {\n",
    "        \"2018\" :  [80,90,100],\n",
    "    \"2019\" : [10,16,20],\n",
    "    \"2020\" : [8,10,10]\n",
    "}\n",
    "expenses = pd.DataFrame(expenses_data, index = ['Iphone','Ipad','Mac'])"
   ]
  },
  {
   "cell_type": "code",
   "execution_count": 44,
   "id": "8209b6e4",
   "metadata": {},
   "outputs": [
    {
     "data": {
      "text/html": [
       "<div>\n",
       "<style scoped>\n",
       "    .dataframe tbody tr th:only-of-type {\n",
       "        vertical-align: middle;\n",
       "    }\n",
       "\n",
       "    .dataframe tbody tr th {\n",
       "        vertical-align: top;\n",
       "    }\n",
       "\n",
       "    .dataframe thead th {\n",
       "        text-align: right;\n",
       "    }\n",
       "</style>\n",
       "<table border=\"1\" class=\"dataframe\">\n",
       "  <thead>\n",
       "    <tr style=\"text-align: right;\">\n",
       "      <th></th>\n",
       "      <th>2018</th>\n",
       "      <th>2019</th>\n",
       "      <th>2020</th>\n",
       "    </tr>\n",
       "  </thead>\n",
       "  <tbody>\n",
       "    <tr>\n",
       "      <th>Iphone</th>\n",
       "      <td>180</td>\n",
       "      <td>24</td>\n",
       "      <td>12</td>\n",
       "    </tr>\n",
       "    <tr>\n",
       "      <th>Ipad</th>\n",
       "      <td>200</td>\n",
       "      <td>36</td>\n",
       "      <td>18</td>\n",
       "    </tr>\n",
       "    <tr>\n",
       "      <th>Mac</th>\n",
       "      <td>220</td>\n",
       "      <td>40</td>\n",
       "      <td>20</td>\n",
       "    </tr>\n",
       "  </tbody>\n",
       "</table>\n",
       "</div>"
      ],
      "text/plain": [
       "        2018  2019  2020\n",
       "Iphone   180    24    12\n",
       "Ipad     200    36    18\n",
       "Mac      220    40    20"
      ]
     },
     "execution_count": 44,
     "metadata": {},
     "output_type": "execute_result"
    }
   ],
   "source": [
    "revenue"
   ]
  },
  {
   "cell_type": "code",
   "execution_count": 45,
   "id": "55fa887e",
   "metadata": {},
   "outputs": [
    {
     "data": {
      "text/html": [
       "<div>\n",
       "<style scoped>\n",
       "    .dataframe tbody tr th:only-of-type {\n",
       "        vertical-align: middle;\n",
       "    }\n",
       "\n",
       "    .dataframe tbody tr th {\n",
       "        vertical-align: top;\n",
       "    }\n",
       "\n",
       "    .dataframe thead th {\n",
       "        text-align: right;\n",
       "    }\n",
       "</style>\n",
       "<table border=\"1\" class=\"dataframe\">\n",
       "  <thead>\n",
       "    <tr style=\"text-align: right;\">\n",
       "      <th></th>\n",
       "      <th>2018</th>\n",
       "      <th>2019</th>\n",
       "      <th>2020</th>\n",
       "    </tr>\n",
       "  </thead>\n",
       "  <tbody>\n",
       "    <tr>\n",
       "      <th>Iphone</th>\n",
       "      <td>80</td>\n",
       "      <td>10</td>\n",
       "      <td>8</td>\n",
       "    </tr>\n",
       "    <tr>\n",
       "      <th>Ipad</th>\n",
       "      <td>90</td>\n",
       "      <td>16</td>\n",
       "      <td>10</td>\n",
       "    </tr>\n",
       "    <tr>\n",
       "      <th>Mac</th>\n",
       "      <td>100</td>\n",
       "      <td>20</td>\n",
       "      <td>10</td>\n",
       "    </tr>\n",
       "  </tbody>\n",
       "</table>\n",
       "</div>"
      ],
      "text/plain": [
       "        2018  2019  2020\n",
       "Iphone    80    10     8\n",
       "Ipad      90    16    10\n",
       "Mac      100    20    10"
      ]
     },
     "execution_count": 45,
     "metadata": {},
     "output_type": "execute_result"
    }
   ],
   "source": [
    "expenses"
   ]
  },
  {
   "cell_type": "code",
   "execution_count": 2,
   "id": "13b66de6",
   "metadata": {},
   "outputs": [],
   "source": [
    "revenue  = np.array([[180,200,220],[24,36,40],[12,18,20]])\n",
    "expenses  = np.array([[80,90,100],[10,16,20],[8,10,10]])"
   ]
  },
  {
   "cell_type": "code",
   "execution_count": 4,
   "id": "b4b7a65b",
   "metadata": {},
   "outputs": [
    {
     "data": {
      "text/plain": [
       "array([[100, 110, 120],\n",
       "       [ 14,  20,  20],\n",
       "       [  4,   8,  10]])"
      ]
     },
     "execution_count": 4,
     "metadata": {},
     "output_type": "execute_result"
    }
   ],
   "source": [
    "profit = revenue - expenses\n",
    "profit"
   ]
  },
  {
   "cell_type": "code",
   "execution_count": 8,
   "id": "f29b6363",
   "metadata": {},
   "outputs": [],
   "source": [
    "price_per_unit = np.array([1000,400,1200])\n",
    "units_sold = np.array([[30,40,50],[5,10,15],[2,5,15]])"
   ]
  },
  {
   "cell_type": "code",
   "execution_count": 13,
   "id": "94e80c1d",
   "metadata": {},
   "outputs": [
    {
     "data": {
      "text/plain": [
       "array([[30, 40, 50],\n",
       "       [ 5, 10, 15],\n",
       "       [ 2,  5, 15]])"
      ]
     },
     "execution_count": 13,
     "metadata": {},
     "output_type": "execute_result"
    }
   ],
   "source": [
    "units_sold"
   ]
  },
  {
   "cell_type": "code",
   "execution_count": 14,
   "id": "5f114254",
   "metadata": {},
   "outputs": [
    {
     "data": {
      "text/plain": [
       "array([1000,  400, 1200])"
      ]
     },
     "execution_count": 14,
     "metadata": {},
     "output_type": "execute_result"
    }
   ],
   "source": [
    "price_per_unit"
   ]
  },
  {
   "cell_type": "markdown",
   "id": "c9d52f47",
   "metadata": {},
   "source": [
    "### Broadcasting"
   ]
  },
  {
   "cell_type": "code",
   "execution_count": 15,
   "id": "ec8eda50",
   "metadata": {},
   "outputs": [
    {
     "data": {
      "text/plain": [
       "array([[30000, 16000, 60000],\n",
       "       [ 5000,  4000, 18000],\n",
       "       [ 2000,  2000, 18000]])"
      ]
     },
     "execution_count": 15,
     "metadata": {},
     "output_type": "execute_result"
    }
   ],
   "source": [
    "price_per_unit*units_sold   "
   ]
  },
  {
   "cell_type": "markdown",
   "id": "8f6b64ed",
   "metadata": {},
   "source": [
    "## Let us now Calculate Dot Product"
   ]
  },
  {
   "cell_type": "code",
   "execution_count": 16,
   "id": "641d798d",
   "metadata": {},
   "outputs": [
    {
     "data": {
      "text/plain": [
       "array([34400, 50000, 74000])"
      ]
     },
     "execution_count": 16,
     "metadata": {},
     "output_type": "execute_result"
    }
   ],
   "source": [
    "np.dot(price_per_unit,units_sold)   # price_per_unit * first column of units_sold , For year [2018,2019,2020]"
   ]
  },
  {
   "cell_type": "code",
   "execution_count": 47,
   "id": "4c50a91d",
   "metadata": {},
   "outputs": [
    {
     "data": {
      "text/plain": [
       "array([1000,  400, 1200])"
      ]
     },
     "execution_count": 47,
     "metadata": {},
     "output_type": "execute_result"
    }
   ],
   "source": [
    "price_per_unit"
   ]
  },
  {
   "cell_type": "code",
   "execution_count": 48,
   "id": "6e47abd2",
   "metadata": {},
   "outputs": [
    {
     "data": {
      "text/plain": [
       "array([[30, 40, 50],\n",
       "       [ 5, 10, 15],\n",
       "       [ 2,  5, 15]])"
      ]
     },
     "execution_count": 48,
     "metadata": {},
     "output_type": "execute_result"
    }
   ],
   "source": [
    "units_sold"
   ]
  },
  {
   "cell_type": "markdown",
   "id": "f3a2b881",
   "metadata": {},
   "source": [
    "### For 2018 it does this "
   ]
  },
  {
   "cell_type": "code",
   "execution_count": 49,
   "id": "6648861f",
   "metadata": {},
   "outputs": [
    {
     "data": {
      "text/plain": [
       "34400"
      ]
     },
     "execution_count": 49,
     "metadata": {},
     "output_type": "execute_result"
    }
   ],
   "source": [
    "(30*1000)+(5*400)+(2*1200)"
   ]
  },
  {
   "cell_type": "markdown",
   "id": "d3b706bc",
   "metadata": {},
   "source": [
    "### For 2018 it does this "
   ]
  },
  {
   "cell_type": "code",
   "execution_count": 50,
   "id": "9fa896e7",
   "metadata": {},
   "outputs": [
    {
     "data": {
      "text/plain": [
       "50000"
      ]
     },
     "execution_count": 50,
     "metadata": {},
     "output_type": "execute_result"
    }
   ],
   "source": [
    "(40*1000)+(10*400)+(5*1200)"
   ]
  },
  {
   "cell_type": "markdown",
   "id": "f21553dd",
   "metadata": {},
   "source": [
    "### For 2018 it does this "
   ]
  },
  {
   "cell_type": "code",
   "execution_count": 51,
   "id": "42bcff15",
   "metadata": {},
   "outputs": [
    {
     "data": {
      "text/plain": [
       "74000"
      ]
     },
     "execution_count": 51,
     "metadata": {},
     "output_type": "execute_result"
    }
   ],
   "source": [
    "(50*1000)+(15*400)+(15*1200)"
   ]
  },
  {
   "cell_type": "markdown",
   "id": "db963f80",
   "metadata": {},
   "source": [
    "## Practice Questions"
   ]
  },
  {
   "cell_type": "code",
   "execution_count": 53,
   "id": "2f14980b",
   "metadata": {},
   "outputs": [],
   "source": [
    "data  = {\n",
    "    \"2018\" : [200,68,110,80],\n",
    "    \"2019\" : [220,79,140,85],\n",
    "    \"2020\" : [250,105,180,90]\n",
    "}\n",
    "indian_companies_revenue_in_Dollars = pd.DataFrame(data,index=[\"Reliance Industries\",\"Infosys\",\"TCS\",\"Wipro\"])"
   ]
  },
  {
   "cell_type": "code",
   "execution_count": 54,
   "id": "717283e3",
   "metadata": {},
   "outputs": [
    {
     "data": {
      "text/html": [
       "<div>\n",
       "<style scoped>\n",
       "    .dataframe tbody tr th:only-of-type {\n",
       "        vertical-align: middle;\n",
       "    }\n",
       "\n",
       "    .dataframe tbody tr th {\n",
       "        vertical-align: top;\n",
       "    }\n",
       "\n",
       "    .dataframe thead th {\n",
       "        text-align: right;\n",
       "    }\n",
       "</style>\n",
       "<table border=\"1\" class=\"dataframe\">\n",
       "  <thead>\n",
       "    <tr style=\"text-align: right;\">\n",
       "      <th></th>\n",
       "      <th>2018</th>\n",
       "      <th>2019</th>\n",
       "      <th>2020</th>\n",
       "    </tr>\n",
       "  </thead>\n",
       "  <tbody>\n",
       "    <tr>\n",
       "      <th>Reliance Industries</th>\n",
       "      <td>200</td>\n",
       "      <td>220</td>\n",
       "      <td>250</td>\n",
       "    </tr>\n",
       "    <tr>\n",
       "      <th>Infosys</th>\n",
       "      <td>68</td>\n",
       "      <td>79</td>\n",
       "      <td>105</td>\n",
       "    </tr>\n",
       "    <tr>\n",
       "      <th>TCS</th>\n",
       "      <td>110</td>\n",
       "      <td>140</td>\n",
       "      <td>180</td>\n",
       "    </tr>\n",
       "    <tr>\n",
       "      <th>Wipro</th>\n",
       "      <td>80</td>\n",
       "      <td>85</td>\n",
       "      <td>90</td>\n",
       "    </tr>\n",
       "  </tbody>\n",
       "</table>\n",
       "</div>"
      ],
      "text/plain": [
       "                     2018  2019  2020\n",
       "Reliance Industries   200   220   250\n",
       "Infosys                68    79   105\n",
       "TCS                   110   140   180\n",
       "Wipro                  80    85    90"
      ]
     },
     "execution_count": 54,
     "metadata": {},
     "output_type": "execute_result"
    }
   ],
   "source": [
    "indian_companies_revenue_in_Dollars"
   ]
  },
  {
   "cell_type": "code",
   "execution_count": 57,
   "id": "7dda9ae5",
   "metadata": {},
   "outputs": [],
   "source": [
    "# Assuming 1USD =75 INR\n",
    "INR = [75,75,75,75]"
   ]
  },
  {
   "cell_type": "code",
   "execution_count": 58,
   "id": "da0c5222",
   "metadata": {},
   "outputs": [],
   "source": [
    "indian_companies_revenue_in_Dollars = np.dot(INR,indian_companies_revenue_in_Dollars)"
   ]
  },
  {
   "cell_type": "code",
   "execution_count": 59,
   "id": "404ef100",
   "metadata": {},
   "outputs": [
    {
     "data": {
      "text/plain": [
       "array([34350, 39300, 46875], dtype=int64)"
      ]
     },
     "execution_count": 59,
     "metadata": {},
     "output_type": "execute_result"
    }
   ],
   "source": [
    "indian_companies_revenue_in_Dollars"
   ]
  },
  {
   "cell_type": "code",
   "execution_count": null,
   "id": "d71e160a",
   "metadata": {},
   "outputs": [],
   "source": []
  }
 ],
 "metadata": {
  "kernelspec": {
   "display_name": "Python 3 (ipykernel)",
   "language": "python",
   "name": "python3"
  },
  "language_info": {
   "codemirror_mode": {
    "name": "ipython",
    "version": 3
   },
   "file_extension": ".py",
   "mimetype": "text/x-python",
   "name": "python",
   "nbconvert_exporter": "python",
   "pygments_lexer": "ipython3",
   "version": "3.9.13"
  }
 },
 "nbformat": 4,
 "nbformat_minor": 5
}
