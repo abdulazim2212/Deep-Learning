{
 "cells": [
  {
   "cell_type": "markdown",
   "id": "ba6d053e",
   "metadata": {},
   "source": [
    "### Activation Function : The activation function decides whether a neuron should be activated or not by calculating the weighted sum and further adding bias to it. The purpose of the activation function is to introduce non-linearity into the output of a neuron."
   ]
  },
  {
   "cell_type": "markdown",
   "id": "2eb4ed6f",
   "metadata": {},
   "source": [
    "# 1 . Sigmoid : It converts every number in the range of 0 to 1 \n",
    "\n",
    "### formula for sigmloid is : 1/1+e^-y , where y=mx+c,m=gradient function/coefficient,x=feature/column value,c=error, e=2.71(constant)"
   ]
  },
  {
   "cell_type": "code",
   "execution_count": 5,
   "id": "5a75db30",
   "metadata": {},
   "outputs": [],
   "source": [
    "import math\n",
    "def sigmoid(y):\n",
    "    return 1/(1+math.exp(-y))"
   ]
  },
  {
   "cell_type": "code",
   "execution_count": 7,
   "id": "ff4c9d99",
   "metadata": {},
   "outputs": [
    {
     "data": {
      "text/plain": [
       "1.0"
      ]
     },
     "execution_count": 7,
     "metadata": {},
     "output_type": "execute_result"
    }
   ],
   "source": [
    "sigmoid(100)"
   ]
  },
  {
   "cell_type": "code",
   "execution_count": 8,
   "id": "42005860",
   "metadata": {},
   "outputs": [
    {
     "data": {
      "text/plain": [
       "1.0"
      ]
     },
     "execution_count": 8,
     "metadata": {},
     "output_type": "execute_result"
    }
   ],
   "source": [
    "sigmoid(45)"
   ]
  },
  {
   "cell_type": "code",
   "execution_count": 9,
   "id": "efed1171",
   "metadata": {},
   "outputs": [
    {
     "data": {
      "text/plain": [
       "0.7310585786300049"
      ]
     },
     "execution_count": 9,
     "metadata": {},
     "output_type": "execute_result"
    }
   ],
   "source": [
    "sigmoid(1)"
   ]
  },
  {
   "cell_type": "code",
   "execution_count": 10,
   "id": "79182ac8",
   "metadata": {},
   "outputs": [
    {
     "data": {
      "text/plain": [
       "1.71390843154201e-15"
      ]
     },
     "execution_count": 10,
     "metadata": {},
     "output_type": "execute_result"
    }
   ],
   "source": [
    "sigmoid(-34)"
   ]
  },
  {
   "cell_type": "markdown",
   "id": "8808bf48",
   "metadata": {},
   "source": [
    "# 2. Tanh : It converts every value between the range of -1 and 1\n",
    "\n",
    "### Formula for this function is tanh = e^y-e^-y/(e^y+e^-y)"
   ]
  },
  {
   "cell_type": "code",
   "execution_count": 15,
   "id": "d8a688a1",
   "metadata": {},
   "outputs": [],
   "source": [
    "def tanh(y):\n",
    "    return (math.exp(y)-math.exp(-y))/(math.exp(y)+math.exp(-y))"
   ]
  },
  {
   "cell_type": "code",
   "execution_count": 17,
   "id": "66ef8d63",
   "metadata": {},
   "outputs": [
    {
     "data": {
      "text/plain": [
       "-1.0"
      ]
     },
     "execution_count": 17,
     "metadata": {},
     "output_type": "execute_result"
    }
   ],
   "source": [
    "tanh(-35)"
   ]
  },
  {
   "cell_type": "code",
   "execution_count": 18,
   "id": "f0fcd704",
   "metadata": {},
   "outputs": [
    {
     "data": {
      "text/plain": [
       "1.0"
      ]
     },
     "execution_count": 18,
     "metadata": {},
     "output_type": "execute_result"
    }
   ],
   "source": [
    "tanh(333)"
   ]
  },
  {
   "cell_type": "markdown",
   "id": "887e3d3e",
   "metadata": {},
   "source": [
    "# 3.  Relu Function : It considers every negative value as 0 & keeps every positive value the same."
   ]
  },
  {
   "cell_type": "code",
   "execution_count": 19,
   "id": "2d574b63",
   "metadata": {},
   "outputs": [],
   "source": [
    "def relu(y):\n",
    "    return max(0,y)"
   ]
  },
  {
   "cell_type": "code",
   "execution_count": 20,
   "id": "f61eaab2",
   "metadata": {},
   "outputs": [
    {
     "data": {
      "text/plain": [
       "0"
      ]
     },
     "execution_count": 20,
     "metadata": {},
     "output_type": "execute_result"
    }
   ],
   "source": [
    "relu(-233)"
   ]
  },
  {
   "cell_type": "code",
   "execution_count": 21,
   "id": "179560a5",
   "metadata": {},
   "outputs": [
    {
     "data": {
      "text/plain": [
       "33"
      ]
     },
     "execution_count": 21,
     "metadata": {},
     "output_type": "execute_result"
    }
   ],
   "source": [
    "relu(33)"
   ]
  },
  {
   "cell_type": "markdown",
   "id": "fd0be8a6",
   "metadata": {},
   "source": [
    "# 4. Leaky relu : It brings every negative value very very close to 0 & keeps positive value as same."
   ]
  },
  {
   "cell_type": "code",
   "execution_count": 23,
   "id": "e5c9435e",
   "metadata": {},
   "outputs": [],
   "source": [
    "def leakyRelu(y):\n",
    "    return max(0.1*y,y)"
   ]
  },
  {
   "cell_type": "code",
   "execution_count": 24,
   "id": "af7faf3a",
   "metadata": {},
   "outputs": [
    {
     "data": {
      "text/plain": [
       "-3.4000000000000004"
      ]
     },
     "execution_count": 24,
     "metadata": {},
     "output_type": "execute_result"
    }
   ],
   "source": [
    "leakyRelu(-34)"
   ]
  },
  {
   "cell_type": "code",
   "execution_count": 25,
   "id": "26ae7f9f",
   "metadata": {},
   "outputs": [
    {
     "data": {
      "text/plain": [
       "34"
      ]
     },
     "execution_count": 25,
     "metadata": {},
     "output_type": "execute_result"
    }
   ],
   "source": [
    "leakyRelu(34)"
   ]
  },
  {
   "cell_type": "code",
   "execution_count": null,
   "id": "e4896792",
   "metadata": {},
   "outputs": [],
   "source": []
  }
 ],
 "metadata": {
  "kernelspec": {
   "display_name": "Python 3 (ipykernel)",
   "language": "python",
   "name": "python3"
  },
  "language_info": {
   "codemirror_mode": {
    "name": "ipython",
    "version": 3
   },
   "file_extension": ".py",
   "mimetype": "text/x-python",
   "name": "python",
   "nbconvert_exporter": "python",
   "pygments_lexer": "ipython3",
   "version": "3.9.13"
  }
 },
 "nbformat": 4,
 "nbformat_minor": 5
}
